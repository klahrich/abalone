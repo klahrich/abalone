{
 "cells": [
  {
   "cell_type": "code",
   "execution_count": 1,
   "metadata": {},
   "outputs": [
    {
     "ename": "NameError",
     "evalue": "name 'Game' is not defined",
     "output_type": "error",
     "traceback": [
      "\u001b[1;31m---------------------------------------------------------------------------\u001b[0m",
      "\u001b[1;31mNameError\u001b[0m                                 Traceback (most recent call last)",
      "\u001b[1;32mc:\\Users\\karim\\Documents\\abalone\\abalone_gym.ipynb Cell 1'\u001b[0m in \u001b[0;36m<cell line: 1>\u001b[1;34m()\u001b[0m\n\u001b[1;32m----> <a href='vscode-notebook-cell:/c%3A/Users/karim/Documents/abalone/abalone_gym.ipynb#ch0000000?line=0'>1</a>\u001b[0m \u001b[39mfrom\u001b[39;00m \u001b[39mabalone\u001b[39;00m\u001b[39m.\u001b[39;00m\u001b[39mabalone_env\u001b[39;00m \u001b[39mimport\u001b[39;00m AbaloneEnv\n\u001b[0;32m      <a href='vscode-notebook-cell:/c%3A/Users/karim/Documents/abalone/abalone_gym.ipynb#ch0000000?line=1'>2</a>\u001b[0m \u001b[39mfrom\u001b[39;00m \u001b[39mabalone\u001b[39;00m\u001b[39m.\u001b[39;00m\u001b[39mgame\u001b[39;00m \u001b[39mimport\u001b[39;00m Game\n\u001b[0;32m      <a href='vscode-notebook-cell:/c%3A/Users/karim/Documents/abalone/abalone_gym.ipynb#ch0000000?line=3'>4</a>\u001b[0m game \u001b[39m=\u001b[39m Game()\n",
      "File \u001b[1;32mc:\\Users\\karim\\Documents\\abalone\\abalone\\abalone_env.py:5\u001b[0m, in \u001b[0;36m<module>\u001b[1;34m\u001b[0m\n\u001b[0;32m      <a href='file:///c%3A/Users/karim/Documents/abalone/abalone/abalone_env.py?line=2'>3</a>\u001b[0m \u001b[39mimport\u001b[39;00m \u001b[39mnumpy\u001b[39;00m \u001b[39mas\u001b[39;00m \u001b[39mnp\u001b[39;00m\n\u001b[0;32m      <a href='file:///c%3A/Users/karim/Documents/abalone/abalone/abalone_env.py?line=3'>4</a>\u001b[0m \u001b[39mimport\u001b[39;00m \u001b[39mstring\u001b[39;00m\n\u001b[1;32m----> <a href='file:///c%3A/Users/karim/Documents/abalone/abalone/abalone_env.py?line=4'>5</a>\u001b[0m \u001b[39mfrom\u001b[39;00m \u001b[39mabalone\u001b[39;00m\u001b[39m.\u001b[39;00m\u001b[39mgame\u001b[39;00m \u001b[39mimport\u001b[39;00m Game\n\u001b[0;32m      <a href='file:///c%3A/Users/karim/Documents/abalone/abalone/abalone_env.py?line=5'>6</a>\u001b[0m \u001b[39mfrom\u001b[39;00m \u001b[39mabalone\u001b[39;00m\u001b[39m.\u001b[39;00m\u001b[39menums\u001b[39;00m \u001b[39mimport\u001b[39;00m Marble, Direction, Space, Player\n\u001b[0;32m      <a href='file:///c%3A/Users/karim/Documents/abalone/abalone/abalone_env.py?line=6'>7</a>\u001b[0m \u001b[39mfrom\u001b[39;00m \u001b[39mabalone\u001b[39;00m\u001b[39m.\u001b[39;00m\u001b[39mutils\u001b[39;00m \u001b[39mimport\u001b[39;00m get_winner\n",
      "File \u001b[1;32mc:\\Users\\karim\\Documents\\abalone\\abalone\\game.py:74\u001b[0m, in \u001b[0;36m<module>\u001b[1;34m\u001b[0m\n\u001b[0;32m     <a href='file:///c%3A/Users/karim/Documents/abalone/abalone/game.py?line=61'>62</a>\u001b[0m     \u001b[39m\"\"\"Returns the corresponding `abalone.enums.Marble` for a given `abalone.enums.Player`.\u001b[39;00m\n\u001b[0;32m     <a href='file:///c%3A/Users/karim/Documents/abalone/abalone/game.py?line=62'>63</a>\u001b[0m \n\u001b[0;32m     <a href='file:///c%3A/Users/karim/Documents/abalone/abalone/game.py?line=63'>64</a>\u001b[0m \u001b[39m    Args:\u001b[39;00m\n\u001b[1;32m   (...)\u001b[0m\n\u001b[0;32m     <a href='file:///c%3A/Users/karim/Documents/abalone/abalone/game.py?line=67'>68</a>\u001b[0m \u001b[39m        The `abalone.enums.Marble` which belongs to `player`.\u001b[39;00m\n\u001b[0;32m     <a href='file:///c%3A/Users/karim/Documents/abalone/abalone/game.py?line=68'>69</a>\u001b[0m \u001b[39m    \"\"\"\u001b[39;00m\n\u001b[0;32m     <a href='file:///c%3A/Users/karim/Documents/abalone/abalone/game.py?line=70'>71</a>\u001b[0m     \u001b[39mreturn\u001b[39;00m Marble\u001b[39m.\u001b[39mWHITE \u001b[39mif\u001b[39;00m player \u001b[39mis\u001b[39;00m Player\u001b[39m.\u001b[39mWHITE \u001b[39melse\u001b[39;00m Marble\u001b[39m.\u001b[39mBLACK\n\u001b[1;32m---> <a href='file:///c%3A/Users/karim/Documents/abalone/abalone/game.py?line=73'>74</a>\u001b[0m \u001b[39mclass\u001b[39;00m \u001b[39mGame\u001b[39;00m:\n\u001b[0;32m     <a href='file:///c%3A/Users/karim/Documents/abalone/abalone/game.py?line=74'>75</a>\u001b[0m     \u001b[39m\"\"\"Represents the mutable state of an Abalone game.\"\"\"\u001b[39;00m\n\u001b[0;32m     <a href='file:///c%3A/Users/karim/Documents/abalone/abalone/game.py?line=76'>77</a>\u001b[0m     \u001b[39mdef\u001b[39;00m \u001b[39m__init__\u001b[39m(\u001b[39mself\u001b[39m, initial_position: InitialPosition \u001b[39m=\u001b[39m InitialPosition\u001b[39m.\u001b[39mDEFAULT, first_turn: Player \u001b[39m=\u001b[39m Player\u001b[39m.\u001b[39mBLACK):\n",
      "File \u001b[1;32mc:\\Users\\karim\\Documents\\abalone\\abalone\\game.py:322\u001b[0m, in \u001b[0;36mGame\u001b[1;34m()\u001b[0m\n\u001b[0;32m    <a href='file:///c%3A/Users/karim/Documents/abalone/abalone/game.py?line=318'>319</a>\u001b[0m                 \u001b[39mif\u001b[39;00m neighbor2 \u001b[39mis\u001b[39;00m \u001b[39mnot\u001b[39;00m Space\u001b[39m.\u001b[39mOFF \u001b[39mand\u001b[39;00m \u001b[39mself\u001b[39m\u001b[39m.\u001b[39mget_marble(neighbor2) \u001b[39mis\u001b[39;00m _marble_of_player(\u001b[39mself\u001b[39m\u001b[39m.\u001b[39mturn):\n\u001b[0;32m    <a href='file:///c%3A/Users/karim/Documents/abalone/abalone/game.py?line=319'>320</a>\u001b[0m                     \u001b[39myield\u001b[39;00m space, neighbor2\n\u001b[1;32m--> <a href='file:///c%3A/Users/karim/Documents/abalone/abalone/game.py?line=321'>322</a>\u001b[0m \u001b[39mdef\u001b[39;00m \u001b[39mgenerate_legal_moves\u001b[39m(\u001b[39mself\u001b[39m) \u001b[39m-\u001b[39m\u001b[39m>\u001b[39m Generator[Tuple[Union[Space, Tuple[Space, Space]], Direction, Game], \u001b[39mNone\u001b[39;00m, \u001b[39mNone\u001b[39;00m]:\n\u001b[0;32m    <a href='file:///c%3A/Users/karim/Documents/abalone/abalone/game.py?line=322'>323</a>\u001b[0m     \u001b[39m\"\"\"Generates all possible moves that the player whose turn it is can perform. The yielded values are intended\\\u001b[39;00m\n\u001b[0;32m    <a href='file:///c%3A/Users/karim/Documents/abalone/abalone/game.py?line=323'>324</a>\u001b[0m \u001b[39m    to be passed as arguments to `abalone.game.Game.move`.\u001b[39;00m\n\u001b[0;32m    <a href='file:///c%3A/Users/karim/Documents/abalone/abalone/game.py?line=324'>325</a>\u001b[0m \n\u001b[0;32m    <a href='file:///c%3A/Users/karim/Documents/abalone/abalone/game.py?line=325'>326</a>\u001b[0m \u001b[39m    Yields:\u001b[39;00m\n\u001b[0;32m    <a href='file:///c%3A/Users/karim/Documents/abalone/abalone/game.py?line=326'>327</a>\u001b[0m \u001b[39m        A tuple of 1. either one or a tuple of two `abalone.enums.Space`s and 2. a `abalone.enums.Direction`\u001b[39;00m\n\u001b[0;32m    <a href='file:///c%3A/Users/karim/Documents/abalone/abalone/game.py?line=327'>328</a>\u001b[0m \u001b[39m    \"\"\"\u001b[39;00m\n\u001b[0;32m    <a href='file:///c%3A/Users/karim/Documents/abalone/abalone/game.py?line=328'>329</a>\u001b[0m     \u001b[39mfor\u001b[39;00m marbles \u001b[39min\u001b[39;00m \u001b[39mself\u001b[39m\u001b[39m.\u001b[39mgenerate_own_marble_lines():\n",
      "\u001b[1;31mNameError\u001b[0m: name 'Game' is not defined"
     ]
    }
   ],
   "source": [
    "from abalone.abalone_env import AbaloneEnv\n",
    "from abalone.game import Game\n",
    "\n",
    "game = Game()\n",
    "env1 = AbaloneEnv(game)\n",
    "env2 = AbaloneEnv(game)\n",
    "\n",
    "\n",
    "while True:\n",
    "    # Take a random action\n",
    "    action1 = env1.action_space.sample()\n",
    "    obs, reward, done, info = env1.step(action1)\n",
    "\n",
    "    env1.render()\n",
    "\n",
    "    if done == True:\n",
    "        break\n",
    "\n",
    "    action2 = env2.action_space.sample()\n",
    "    obs, reward, done, info = env2.step(action2)\n",
    "\n",
    "    env2.render()\n"
   ]
  }
 ],
 "metadata": {
  "interpreter": {
   "hash": "0c5bcfc645612c100a672ff1ac107089791434762d985e4685b07936f23fa680"
  },
  "kernelspec": {
   "display_name": "Python 3.10.2 64-bit (system)",
   "language": "python",
   "name": "python3"
  },
  "language_info": {
   "codemirror_mode": {
    "name": "ipython",
    "version": 3
   },
   "file_extension": ".py",
   "mimetype": "text/x-python",
   "name": "python",
   "nbconvert_exporter": "python",
   "pygments_lexer": "ipython3",
   "version": "3.10.2"
  },
  "orig_nbformat": 4
 },
 "nbformat": 4,
 "nbformat_minor": 2
}
