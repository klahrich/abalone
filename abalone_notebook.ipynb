{
 "cells": [
  {
   "cell_type": "code",
   "execution_count": 1,
   "metadata": {},
   "outputs": [],
   "source": [
    "from abalone.enums import Space\n",
    "from abalone.game import _space_to_board_indices\n",
    "from abalone.utils import distance_from_center"
   ]
  },
  {
   "cell_type": "code",
   "execution_count": 6,
   "metadata": {},
   "outputs": [
    {
     "data": {
      "text/plain": [
       "(8, 0)"
      ]
     },
     "execution_count": 6,
     "metadata": {},
     "output_type": "execute_result"
    }
   ],
   "source": [
    "_space_to_board_indices(Space.A1)"
   ]
  },
  {
   "cell_type": "code",
   "execution_count": 7,
   "metadata": {},
   "outputs": [
    {
     "data": {
      "text/plain": [
       "(8, 4)"
      ]
     },
     "execution_count": 7,
     "metadata": {},
     "output_type": "execute_result"
    }
   ],
   "source": [
    "_space_to_board_indices(Space.A5)"
   ]
  },
  {
   "cell_type": "code",
   "execution_count": 4,
   "metadata": {},
   "outputs": [
    {
     "data": {
      "text/plain": [
       "2"
      ]
     },
     "execution_count": 4,
     "metadata": {},
     "output_type": "execute_result"
    }
   ],
   "source": [
    "distance_from_center(Space.D6)"
   ]
  },
  {
   "cell_type": "code",
   "execution_count": 5,
   "metadata": {},
   "outputs": [],
   "source": [
    "from abalone.game import Game\n",
    "game = Game()"
   ]
  },
  {
   "cell_type": "code",
   "execution_count": 6,
   "metadata": {},
   "outputs": [],
   "source": [
    "import random\n",
    "move = random.choice(list(game.generate_legal_moves()))\n",
    "game.play_move(move)"
   ]
  },
  {
   "cell_type": "code",
   "execution_count": 7,
   "metadata": {},
   "outputs": [
    {
     "name": "stdout",
     "output_type": "stream",
     "text": [
      "    I ● ● ● ● ●\n",
      "   H ● ● ● ● ● ●\n",
      "  G · · ● ● ● · ·\n",
      " F · · · · · · · ·\n",
      "E · · · · · · · · ·\n",
      " D · · · · ● · · · 9\n",
      "  C · · ● ● · · · 8\n",
      "   B ● ● ● ● ● ● 7\n",
      "    A ● ● ● ● ● 6\n",
      "       1 2 3 4 5\n"
     ]
    }
   ],
   "source": [
    "print(game)"
   ]
  },
  {
   "cell_type": "code",
   "execution_count": 8,
   "metadata": {},
   "outputs": [],
   "source": [
    "game.unmake_move(move)"
   ]
  },
  {
   "cell_type": "code",
   "execution_count": 9,
   "metadata": {},
   "outputs": [
    {
     "name": "stdout",
     "output_type": "stream",
     "text": [
      "    I ● ● ● ● ●\n",
      "   H ● ● ● ● ● ●\n",
      "  G · · ● ● ● · ·\n",
      " F · · · · · · · ·\n",
      "E · · · · · · · · ·\n",
      " D · · · · · · · · 9\n",
      "  C · · ● ● ● · · 8\n",
      "   B ● ● ● ● ● ● 7\n",
      "    A ● ● ● ● ● 6\n",
      "       1 2 3 4 5\n"
     ]
    }
   ],
   "source": [
    "print(game)"
   ]
  },
  {
   "cell_type": "code",
   "execution_count": 1,
   "metadata": {},
   "outputs": [],
   "source": [
    "from abalone.enums import InitialPosition\n",
    "from abalone.enums import Marble"
   ]
  },
  {
   "cell_type": "code",
   "execution_count": 2,
   "metadata": {},
   "outputs": [],
   "source": [
    "v = InitialPosition.DEFAULT.value"
   ]
  },
  {
   "cell_type": "code",
   "execution_count": 3,
   "metadata": {},
   "outputs": [
    {
     "data": {
      "text/plain": [
       "((<Marble.WHITE: -1>,\n",
       "  <Marble.WHITE: -1>,\n",
       "  <Marble.WHITE: -1>,\n",
       "  <Marble.WHITE: -1>,\n",
       "  <Marble.WHITE: -1>),\n",
       " (<Marble.WHITE: -1>,\n",
       "  <Marble.WHITE: -1>,\n",
       "  <Marble.WHITE: -1>,\n",
       "  <Marble.WHITE: -1>,\n",
       "  <Marble.WHITE: -1>,\n",
       "  <Marble.WHITE: -1>),\n",
       " (<Marble.BLANK: 0>,\n",
       "  <Marble.BLANK: 0>,\n",
       "  <Marble.WHITE: -1>,\n",
       "  <Marble.WHITE: -1>,\n",
       "  <Marble.WHITE: -1>,\n",
       "  <Marble.BLANK: 0>,\n",
       "  <Marble.BLANK: 0>),\n",
       " (<Marble.BLANK: 0>,\n",
       "  <Marble.BLANK: 0>,\n",
       "  <Marble.BLANK: 0>,\n",
       "  <Marble.BLANK: 0>,\n",
       "  <Marble.BLANK: 0>,\n",
       "  <Marble.BLANK: 0>,\n",
       "  <Marble.BLANK: 0>,\n",
       "  <Marble.BLANK: 0>),\n",
       " (<Marble.BLANK: 0>,\n",
       "  <Marble.BLANK: 0>,\n",
       "  <Marble.BLANK: 0>,\n",
       "  <Marble.BLANK: 0>,\n",
       "  <Marble.BLANK: 0>,\n",
       "  <Marble.BLANK: 0>,\n",
       "  <Marble.BLANK: 0>,\n",
       "  <Marble.BLANK: 0>,\n",
       "  <Marble.BLANK: 0>),\n",
       " (<Marble.BLANK: 0>,\n",
       "  <Marble.BLANK: 0>,\n",
       "  <Marble.BLANK: 0>,\n",
       "  <Marble.BLANK: 0>,\n",
       "  <Marble.BLANK: 0>,\n",
       "  <Marble.BLANK: 0>,\n",
       "  <Marble.BLANK: 0>,\n",
       "  <Marble.BLANK: 0>),\n",
       " (<Marble.BLANK: 0>,\n",
       "  <Marble.BLANK: 0>,\n",
       "  <Marble.BLACK: 1>,\n",
       "  <Marble.BLACK: 1>,\n",
       "  <Marble.BLACK: 1>,\n",
       "  <Marble.BLANK: 0>,\n",
       "  <Marble.BLANK: 0>),\n",
       " (<Marble.BLACK: 1>,\n",
       "  <Marble.BLACK: 1>,\n",
       "  <Marble.BLACK: 1>,\n",
       "  <Marble.BLACK: 1>,\n",
       "  <Marble.BLACK: 1>,\n",
       "  <Marble.BLACK: 1>),\n",
       " (<Marble.BLACK: 1>,\n",
       "  <Marble.BLACK: 1>,\n",
       "  <Marble.BLACK: 1>,\n",
       "  <Marble.BLACK: 1>,\n",
       "  <Marble.BLACK: 1>))"
      ]
     },
     "execution_count": 3,
     "metadata": {},
     "output_type": "execute_result"
    }
   ],
   "source": [
    "t1 = tuple(tuple(l) for l in v)\n",
    "t1"
   ]
  },
  {
   "cell_type": "code",
   "execution_count": 10,
   "metadata": {},
   "outputs": [
    {
     "data": {
      "text/plain": [
       "int"
      ]
     },
     "execution_count": 10,
     "metadata": {},
     "output_type": "execute_result"
    }
   ],
   "source": [
    "type(hash(t1))"
   ]
  },
  {
   "cell_type": "code",
   "execution_count": 5,
   "metadata": {},
   "outputs": [],
   "source": [
    "v[0][0] = Marble.BLANK"
   ]
  },
  {
   "cell_type": "code",
   "execution_count": 9,
   "metadata": {},
   "outputs": [
    {
     "data": {
      "text/plain": [
       "5955925118751662617"
      ]
     },
     "execution_count": 9,
     "metadata": {},
     "output_type": "execute_result"
    }
   ],
   "source": [
    "t2 = tuple(tuple(l) for l in v)\n",
    "hash(t2)"
   ]
  },
  {
   "cell_type": "code",
   "execution_count": 8,
   "metadata": {},
   "outputs": [
    {
     "name": "stdout",
     "output_type": "stream",
     "text": [
      "None\n"
     ]
    }
   ],
   "source": [
    "from easyAI.AI import Negamax\n",
    "from easyAI import AI_Player\n",
    "from abalone.game import Game\n",
    "from profilehooks import profile\n",
    "\n",
    "weights = {\n",
    "            'anti_marbles_weight': 8, \n",
    "            'distance_center_weight': 2.5, \n",
    "            'anti_distance_center_weight': 2.5, \n",
    "            'total_neighbors_weight': 5, \n",
    "            'total_anti_neighbors_weight': 5, \n",
    "            'distance_to_enemy_weight': 0.1\n",
    "        }\n",
    "\n",
    "ai = AI_Player(Negamax(2))\n",
    "game = Game(ai, heuristic_weights=weights)\n",
    "\n",
    "@profile\n",
    "def one_step():\n",
    "    ai.ask_move(game)\n",
    "\n",
    "one_step()"
   ]
  },
  {
   "cell_type": "code",
   "execution_count": 11,
   "metadata": {},
   "outputs": [],
   "source": [
    "from abalone.utils import neighbor\n",
    "from abalone.enums import Space, Direction"
   ]
  },
  {
   "cell_type": "code",
   "execution_count": 23,
   "metadata": {},
   "outputs": [],
   "source": [
    "neighbors = {}\n",
    "for space in Space:\n",
    "    for direction in [Direction.E, Direction.NE, Direction.NW, Direction.W, Direction.SW, Direction.SOUTH_EAST]:\n",
    "        s = space.name + direction.name\n",
    "        neighbors[s] = neighbor(space, direction)"
   ]
  },
  {
   "cell_type": "code",
   "execution_count": 21,
   "metadata": {},
   "outputs": [],
   "source": [
    "import pickle"
   ]
  },
  {
   "cell_type": "code",
   "execution_count": 22,
   "metadata": {},
   "outputs": [],
   "source": [
    "with open('neighbors.pkl', 'wb') as f:\n",
    "    pickle.dump(neighbors, f)"
   ]
  },
  {
   "cell_type": "code",
   "execution_count": 1,
   "metadata": {},
   "outputs": [
    {
     "name": "stdout",
     "output_type": "stream",
     "text": [
      "<abalone.game.MoveInline object at 0x000001562A546B60>\n"
     ]
    }
   ],
   "source": [
    "from easyAI.AI import SSS, Negamax\n",
    "from easyAI import AI_Player\n",
    "from abalone.game import Game\n",
    "from profilehooks import profile\n",
    "import time\n",
    "\n",
    "weights = {\n",
    "        'anti_marbles_weight': 8, \n",
    "        'distance_center_weight': 2.5, \n",
    "        'anti_distance_center_weight': 2.5, \n",
    "        'total_neighbors_weight': 5, \n",
    "        'total_anti_neighbors_weight': 5, \n",
    "        'distance_to_enemy_weight': 0.1\n",
    "    }\n",
    "\n",
    "player1 = AI_Player(Negamax(3))\n",
    "player2 = AI_Player(Negamax(2))\n",
    "game = Game(player1, player2, heuristic_weights=weights)\n",
    "\n",
    "move = game.get_move()\n",
    "print(move)"
   ]
  },
  {
   "cell_type": "code",
   "execution_count": 5,
   "metadata": {},
   "outputs": [
    {
     "name": "stdout",
     "output_type": "stream",
     "text": [
      "Direction.NORTH_EAST\n",
      "Direction.EAST\n",
      "Direction.SOUTH_EAST\n",
      "Direction.SOUTH_WEST\n",
      "Direction.WEST\n",
      "Direction.NORTH_WEST\n"
     ]
    }
   ],
   "source": [
    "from abalone.enums import Direction\n",
    "for d in Direction:\n",
    "    print(d)"
   ]
  },
  {
   "cell_type": "code",
   "execution_count": 2,
   "metadata": {},
   "outputs": [
    {
     "name": "stdout",
     "output_type": "stream",
     "text": [
      "    I ● ● ● ● ●\n",
      "   H ● ● ● ● ● ●\n",
      "  G · · ● ● ● · ·\n",
      " F · · · · · · · ·\n",
      "E · · · · · · · · ·\n",
      " D · · · · · · · · 9\n",
      "  C · · ● ● ● · · 8\n",
      "   B ● ● ● ● ● ● 7\n",
      "    A ● ● ● ● ● 6\n",
      "       1 2 3 4 5\n"
     ]
    }
   ],
   "source": [
    "from abalone.game import Game\n",
    "game = Game(None, None, None)\n",
    "print(game)"
   ]
  },
  {
   "cell_type": "code",
   "execution_count": 6,
   "metadata": {},
   "outputs": [
    {
     "data": {
      "text/plain": [
       "1"
      ]
     },
     "execution_count": 6,
     "metadata": {},
     "output_type": "execute_result"
    }
   ],
   "source": [
    "from abalone.utils import distance\n",
    "from abalone.enums import Space\n",
    "\n",
    "distance(Space.C3, Space.B3)"
   ]
  },
  {
   "cell_type": "code",
   "execution_count": null,
   "metadata": {},
   "outputs": [],
   "source": [
    "list(game.generate_own_marble_lines())"
   ]
  },
  {
   "cell_type": "code",
   "execution_count": 1,
   "metadata": {},
   "outputs": [],
   "source": [
    "from abalone.utils import distance\n",
    "from abalone.enums import Space"
   ]
  },
  {
   "cell_type": "code",
   "execution_count": 9,
   "metadata": {},
   "outputs": [
    {
     "data": {
      "text/plain": [
       "<Space.A1: ('A', '1', 120, 40)>"
      ]
     },
     "execution_count": 9,
     "metadata": {},
     "output_type": "execute_result"
    }
   ],
   "source": [
    "Space['A1']"
   ]
  },
  {
   "cell_type": "code",
   "execution_count": 14,
   "metadata": {},
   "outputs": [
    {
     "name": "stdout",
     "output_type": "stream",
     "text": [
      "C3\n",
      "A5\n",
      "Space.C5\n"
     ]
    }
   ],
   "source": [
    "space1 = Space.A5\n",
    "space2 = Space.C3\n",
    "\n",
    "chars1 = space1.name\n",
    "chars2 = space2.name\n",
    "\n",
    "ords1 = (ord(chars1[0]), ord(chars1[1]))\n",
    "ords2 = (ord(chars2[0]), ord(chars2[1]))\n",
    "\n",
    "if ords1[0]==ords2[0]:\n",
    "    r= abs(ords1[1] - ords2[1])\n",
    "\n",
    "if ords1[1]==ords2[1]:\n",
    "    r= abs(ords1[0] - ords2[0])\n",
    "\n",
    "if (ords1[0] - ords2[0])==(ords1[1] - ords2[1]):\n",
    "    r= abs(ords1[0] - ords2[0])\n",
    "\n",
    "top, bottom = (chars1, chars2) if ords1[0] > ords2[0] else (chars2, chars1)\n",
    "print(top)\n",
    "print(bottom)\n",
    "ords_top = (ord(top[0]), ord(top[1]))\n",
    "ords_bottom = (ord(bottom[0]), ord(bottom[1]))\n",
    "\n",
    "\n",
    "if top[1] < bottom[1]:\n",
    "    space_tmp = Space[top[0] + bottom[1]]\n",
    "else:\n",
    "    space_tmp = Space[top[0] + str(int(bottom[1]) + ords_top[0]-ords_bottom[0])]\n",
    "\n",
    "print(space_tmp)"
   ]
  },
  {
   "cell_type": "code",
   "execution_count": null,
   "metadata": {},
   "outputs": [],
   "source": []
  }
 ],
 "metadata": {
  "interpreter": {
   "hash": "495847ca4d49c5daaf8fe12c868fa47f9a70031e6b10bf36fe46ebd7966de27f"
  },
  "kernelspec": {
   "display_name": "Python 3.10.2 64-bit",
   "language": "python",
   "name": "python3"
  },
  "language_info": {
   "codemirror_mode": {
    "name": "ipython",
    "version": 3
   },
   "file_extension": ".py",
   "mimetype": "text/x-python",
   "name": "python",
   "nbconvert_exporter": "python",
   "pygments_lexer": "ipython3",
   "version": "3.10.2"
  },
  "orig_nbformat": 4
 },
 "nbformat": 4,
 "nbformat_minor": 2
}
